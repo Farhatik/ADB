{
  "nbformat": 4,
  "nbformat_minor": 0,
  "metadata": {
    "colab": {
      "name": "SAS2.ipynb",
      "provenance": [],
      "collapsed_sections": []
    },
    "kernelspec": {
      "name": "python3",
      "display_name": "Python 3"
    },
    "language_info": {
      "name": "python"
    }
  },
  "cells": [
    {
      "cell_type": "code",
      "metadata": {
        "id": "7K3hg7W7WLa6"
      },
      "source": [
        "!pip install catboost"
      ],
      "execution_count": null,
      "outputs": []
    },
    {
      "cell_type": "code",
      "metadata": {
        "id": "DhO4oCTaWj8a"
      },
      "source": [
        "import pandas as pd\n",
        "import numpy as np\n",
        "import matplotlib.pyplot as plt\n",
        "from sklearn.compose import ColumnTransformer\n",
        "from sklearn.preprocessing import OneHotEncoder, StandardScaler\n",
        "from sklearn.pipeline import Pipeline\n",
        "from sklearn.linear_model import LinearRegression, Ridge, Lasso\n",
        "from datetime import datetime\n",
        "import warnings\n",
        "warnings.filterwarnings(\"ignore\")\n",
        "from catboost import CatBoostRegressor\n",
        "from sklearn.mixture import GaussianMixture as GMM"
      ],
      "execution_count": null,
      "outputs": []
    },
    {
      "cell_type": "code",
      "metadata": {
        "id": "Q-_-dqZlWv5y"
      },
      "source": [
        "data = pd.read_csv('/content/train_npf2.csv', parse_dates=['date'])\n",
        "sample = pd.read_csv('/content/sample_npf2.csv')"
      ],
      "execution_count": null,
      "outputs": []
    },
    {
      "cell_type": "code",
      "metadata": {
        "id": "pC3ruEwTYB2r"
      },
      "source": [
        "train = data[data.demand.notna()]\n",
        "test = data[data.demand.isna()]\n",
        "\n",
        "test = sample.drop(columns=['demand']).merge(test, how='left', on='index')"
      ],
      "execution_count": null,
      "outputs": []
    },
    {
      "cell_type": "code",
      "metadata": {
        "id": "vKK9ysC6sFVS"
      },
      "source": [
        "def transform_date(data):\n",
        "    data['month'] = data['date'].map(lambda x: x.month).copy()\n",
        "    data['number_of_week_in_month'] = data['date'].map(lambda x: x.day // 7 + 1).copy()\n",
        "    return data\n",
        "\n",
        "def delete_holidays(data):\n",
        "    mt = {'new_year': ['12-28', '01-10'], 'may':['05-01', '05-10']}\n",
        "    dates = dict()\n",
        "    for year in [2015, 2016, 2017, 2018, 2019]:\n",
        "        dates[year] = []\n",
        "        for moment in ['new_year', 'may']:\n",
        "            start = '{}-{}'.format(year, mt[moment][0])\n",
        "            end = '{}-{}'.format(year + int(moment == 'new_year'), mt[moment][1])\n",
        "            dates[year].append([datetime.strptime(start, '%Y-%m-%d'), datetime.strptime(end, '%Y-%m-%d')])\n",
        "\n",
        "    def drop(x):\n",
        "        year = x.year\n",
        "        if dates[year - 1][0][0] < x and x < dates[year - 1][0][1]:\n",
        "            return None\n",
        "        elif dates[year][0][0] < x and x < dates[year][0][1]:\n",
        "            return None\n",
        "        elif dates[year][1][0] < x and x < dates[year][1][1]:\n",
        "            return None\n",
        "        return 1\n",
        "    \n",
        "    data['hol'] = data['date'].map(lambda x: drop(x))\n",
        "    data.dropna(inplace=True)\n",
        "    data.drop(columns=['hol'], inplace=True)\n",
        "    return data\n",
        "\n",
        "def drop_useless_cols(data):\n",
        "    columns = ['Unnamed: 0', 'index', 'STORE_LOCATION_RK', 'PRODUCT_RK']\n",
        "    return data.drop(columns=columns)\n",
        "\n",
        "def promo_flag(data):\n",
        "    data['xor'] = data.apply(lambda x: int(bool(x.PROMO1_FLAG) ^ bool(x.PROMO2_FLAG)), axis=1).copy()\n",
        "    data['and'] = data.apply(lambda x: int(bool(x.PROMO1_FLAG) & bool(x.PROMO2_FLAG)), axis=1).copy()\n",
        "    data['or'] = data.apply(lambda x: int(bool(x.PROMO1_FLAG) | bool(x.PROMO2_FLAG)), axis=1).copy()\n",
        "    return data\n",
        "\n",
        "def price(data):\n",
        "    data['ratio_price'] = data['PRICE_REGULAR'] /  data['PRICE_AFTER_DISC']\n",
        "    data['diff_price'] = data['PRICE_REGULAR'] - data['PRICE_AFTER_DISC']\n",
        "    return data"
      ],
      "execution_count": null,
      "outputs": []
    },
    {
      "cell_type": "markdown",
      "metadata": {
        "id": "CdjLQ3KndSZh"
      },
      "source": [
        "Чистка выходных"
      ]
    },
    {
      "cell_type": "code",
      "metadata": {
        "id": "2bmnCLOAdQLX"
      },
      "source": [
        "train = delete_holidays(train)\n",
        "train = transform_date(train)\n",
        "train = price(train)\n",
        "train = drop_useless_cols(train)"
      ],
      "execution_count": null,
      "outputs": []
    },
    {
      "cell_type": "code",
      "metadata": {
        "id": "b-ROL92Me8Ui"
      },
      "source": [
        "train = train.dropna()"
      ],
      "execution_count": null,
      "outputs": []
    },
    {
      "cell_type": "markdown",
      "metadata": {
        "id": "l5jEAVtlkZMS"
      },
      "source": [
        "Черная пятница"
      ]
    },
    {
      "cell_type": "code",
      "metadata": {
        "id": "LBT7ETLeaCtz"
      },
      "source": [
        "def black_friday(x):\n",
        "    e = '{}-12-01'\n",
        "    s = '{}-11-20'\n",
        "    year = x.year\n",
        "\n",
        "    start = datetime.strptime(s.format(year), '%Y-%m-%d')\n",
        "    end = datetime.strptime(e.format(year), '%Y-%m-%d')\n",
        "    if start < x and x < end:\n",
        "        return 1\n",
        "    return 0"
      ],
      "execution_count": null,
      "outputs": []
    },
    {
      "cell_type": "code",
      "metadata": {
        "id": "ByBrwLw9jBkn"
      },
      "source": [
        "train['black_friday'] = train['date'].map(lambda x: black_friday(x))"
      ],
      "execution_count": null,
      "outputs": []
    },
    {
      "cell_type": "markdown",
      "metadata": {
        "id": "M8gFP60Ikudy"
      },
      "source": [
        "Удаляем date"
      ]
    },
    {
      "cell_type": "code",
      "metadata": {
        "id": "4fdNJ7Qqkwp2"
      },
      "source": [
        "train = train.drop(columns=['date'])"
      ],
      "execution_count": null,
      "outputs": []
    },
    {
      "cell_type": "markdown",
      "metadata": {
        "id": "rP1MbItQkeV3"
      },
      "source": [
        "Сумма demand по локациям\n",
        "\n"
      ]
    },
    {
      "cell_type": "code",
      "metadata": {
        "colab": {
          "base_uri": "https://localhost:8080/",
          "height": 204
        },
        "id": "zIOJ5vRyZpMS",
        "outputId": "78298618-e2a6-47b9-d9db-66e03b931477"
      },
      "source": [
        "store_loc_demand = train.groupby('store_location_rk').agg({'demand':'sum'}).reset_index().sort_values('demand', ascending=False)\n",
        "sld_list = store_loc_demand.store_location_rk.values\n",
        "store_loc_demand.head()"
      ],
      "execution_count": null,
      "outputs": [
        {
          "output_type": "execute_result",
          "data": {
            "text/html": [
              "<div>\n",
              "<style scoped>\n",
              "    .dataframe tbody tr th:only-of-type {\n",
              "        vertical-align: middle;\n",
              "    }\n",
              "\n",
              "    .dataframe tbody tr th {\n",
              "        vertical-align: top;\n",
              "    }\n",
              "\n",
              "    .dataframe thead th {\n",
              "        text-align: right;\n",
              "    }\n",
              "</style>\n",
              "<table border=\"1\" class=\"dataframe\">\n",
              "  <thead>\n",
              "    <tr style=\"text-align: right;\">\n",
              "      <th></th>\n",
              "      <th>store_location_rk</th>\n",
              "      <th>demand</th>\n",
              "    </tr>\n",
              "  </thead>\n",
              "  <tbody>\n",
              "    <tr>\n",
              "      <th>33</th>\n",
              "      <td>1281</td>\n",
              "      <td>9080.102886</td>\n",
              "    </tr>\n",
              "    <tr>\n",
              "      <th>35</th>\n",
              "      <td>1326</td>\n",
              "      <td>7405.892372</td>\n",
              "    </tr>\n",
              "    <tr>\n",
              "      <th>34</th>\n",
              "      <td>1316</td>\n",
              "      <td>6731.323266</td>\n",
              "    </tr>\n",
              "    <tr>\n",
              "      <th>36</th>\n",
              "      <td>1328</td>\n",
              "      <td>5700.010883</td>\n",
              "    </tr>\n",
              "    <tr>\n",
              "      <th>7</th>\n",
              "      <td>525</td>\n",
              "      <td>5644.209778</td>\n",
              "    </tr>\n",
              "  </tbody>\n",
              "</table>\n",
              "</div>"
            ],
            "text/plain": [
              "    store_location_rk       demand\n",
              "33               1281  9080.102886\n",
              "35               1326  7405.892372\n",
              "34               1316  6731.323266\n",
              "36               1328  5700.010883\n",
              "7                 525  5644.209778"
            ]
          },
          "metadata": {
            "tags": []
          },
          "execution_count": 13
        }
      ]
    },
    {
      "cell_type": "code",
      "metadata": {
        "id": "noj0QbTfe_-B"
      },
      "source": [
        "location_0 = set(sld_list[:2]) # highest demand\n",
        "location_1 = set(sld_list[2:7])\n",
        "location_2 = set(sld_list[7:16])\n",
        "location_3 = set(sld_list[16:24])\n",
        "location_4 = set(sld_list[24:32])\n",
        "location_5 = set(sld_list[32:]) # lowest demand"
      ],
      "execution_count": null,
      "outputs": []
    },
    {
      "cell_type": "markdown",
      "metadata": {
        "id": "3ruh-6MLkiyo"
      },
      "source": [
        "Ставим группу локации"
      ]
    },
    {
      "cell_type": "code",
      "metadata": {
        "id": "OaHetY3pfjvl"
      },
      "source": [
        "def figure_location_group(x):\n",
        "    if x in location_0:\n",
        "        return 0\n",
        "    elif x in location_1:\n",
        "        return 1\n",
        "    elif x in location_2:\n",
        "        return 2\n",
        "    elif x in location_3:\n",
        "        return 3\n",
        "    elif x in location_4:\n",
        "        return 4\n",
        "    else:\n",
        "        return 5"
      ],
      "execution_count": null,
      "outputs": []
    },
    {
      "cell_type": "code",
      "metadata": {
        "id": "HviU6P_Dcl_z"
      },
      "source": [
        "train['location_group'] = train['store_location_rk'].map(lambda x: figure_location_group(x))"
      ],
      "execution_count": null,
      "outputs": []
    },
    {
      "cell_type": "markdown",
      "metadata": {
        "id": "7ARZDyISwdje"
      },
      "source": [
        "Словарь: ключ - номер локации, значение - модель, обученная на этой локации"
      ]
    },
    {
      "cell_type": "code",
      "metadata": {
        "id": "wBJUp01lhjwd"
      },
      "source": [
        "location_models = dict()\n",
        "\n",
        "for i in [0, 1, 2, 3, 4, 5]:\n",
        "    model = CatBoostRegressor(iterations=200)\n",
        "    X = train[(train.location_group == i) & (train.black_friday == 0)].drop(columns=['black_friday', 'location_group'])\n",
        "    y = X.demand\n",
        "    X = X.drop(columns=['demand'])\n",
        "    model.fit(X, y)\n",
        "    location_models[i] = model"
      ],
      "execution_count": null,
      "outputs": []
    },
    {
      "cell_type": "code",
      "metadata": {
        "colab": {
          "base_uri": "https://localhost:8080/"
        },
        "id": "Ud4R0LgthjuF",
        "outputId": "f8f3407d-e610-4df7-9a57-109849abd93c"
      },
      "source": [
        "location_models"
      ],
      "execution_count": null,
      "outputs": [
        {
          "output_type": "execute_result",
          "data": {
            "text/plain": [
              "{0: <catboost.core.CatBoostRegressor at 0x7f4707d6e590>,\n",
              " 1: <catboost.core.CatBoostRegressor at 0x7f4707dc6b10>,\n",
              " 2: <catboost.core.CatBoostRegressor at 0x7f470b4b9150>,\n",
              " 3: <catboost.core.CatBoostRegressor at 0x7f4707d6ff90>,\n",
              " 4: <catboost.core.CatBoostRegressor at 0x7f4707dc6890>,\n",
              " 5: <catboost.core.CatBoostRegressor at 0x7f4707d5a550>}"
            ]
          },
          "metadata": {
            "tags": []
          },
          "execution_count": 26
        }
      ]
    },
    {
      "cell_type": "markdown",
      "metadata": {
        "id": "0m_NgCawDWd6"
      },
      "source": [
        "Сумма demand по продуктам"
      ]
    },
    {
      "cell_type": "code",
      "metadata": {
        "id": "KUuEqjT_DhfJ"
      },
      "source": [
        "product_demand = train.groupby(['product_rk']).agg({'demand':'sum'}).reset_index().sort_values('demand', ascending=False)"
      ],
      "execution_count": null,
      "outputs": []
    },
    {
      "cell_type": "code",
      "metadata": {
        "id": "GlTIooMTDW0Y"
      },
      "source": [
        "product_0 = set(product_demand[(product_demand.demand > 1000)].product_rk.values)\n",
        "product_1 = set(product_demand[(product_demand.demand < 1000) & (product_demand.demand > 500)].product_rk.values)\n",
        "product_2 = set(product_demand[(product_demand.demand < 500) & (product_demand.demand > 250)].product_rk.values)\n",
        "product_3 = set(product_demand[(product_demand.demand < 250) & (product_demand.demand > 100)].product_rk.values)\n",
        "product_4 = set(product_demand[(product_demand.demand < 100)].product_rk.values)"
      ],
      "execution_count": null,
      "outputs": []
    },
    {
      "cell_type": "code",
      "metadata": {
        "id": "gTi0plHpDupI"
      },
      "source": [
        "def figure_product_group(x):\n",
        "    if x in product_0:\n",
        "        return 0\n",
        "    elif x in product_1:\n",
        "        return 1\n",
        "    elif x in product_2:\n",
        "        return 2\n",
        "    elif x in product_3:\n",
        "        return 3\n",
        "    else:\n",
        "        return 4"
      ],
      "execution_count": null,
      "outputs": []
    },
    {
      "cell_type": "code",
      "metadata": {
        "id": "OnthDEHnEdE5"
      },
      "source": [
        "train['product_group'] = train['product_rk'].map(lambda x: figure_product_group(x))"
      ],
      "execution_count": null,
      "outputs": []
    },
    {
      "cell_type": "code",
      "metadata": {
        "id": "L-gshf6uE7vJ"
      },
      "source": [
        "product_models = dict()\n",
        "\n",
        "for i in [0, 1, 2, 3, 4]:\n",
        "    model = CatBoostRegressor(iterations=200)\n",
        "    X = train[(train.product_group == i) & (train.black_friday == 0)].drop(columns=['black_friday', 'location_group', 'product_group'])\n",
        "    y = X.demand\n",
        "    X = X.drop(columns=['demand'])\n",
        "    model.fit(X, y)\n",
        "    product_models[i] = model"
      ],
      "execution_count": null,
      "outputs": []
    },
    {
      "cell_type": "code",
      "metadata": {
        "colab": {
          "base_uri": "https://localhost:8080/"
        },
        "id": "RCTDdD_dFTBo",
        "outputId": "97ac4b4f-043e-4c1b-b4bf-eb700356070a"
      },
      "source": [
        "product_models"
      ],
      "execution_count": null,
      "outputs": [
        {
          "output_type": "execute_result",
          "data": {
            "text/plain": [
              "{0: <catboost.core.CatBoostRegressor at 0x7f4706c145d0>,\n",
              " 1: <catboost.core.CatBoostRegressor at 0x7f4707d61710>,\n",
              " 2: <catboost.core.CatBoostRegressor at 0x7f4707d32750>,\n",
              " 3: <catboost.core.CatBoostRegressor at 0x7f470b54bd10>,\n",
              " 4: <catboost.core.CatBoostRegressor at 0x7f4707d32490>}"
            ]
          },
          "metadata": {
            "tags": []
          },
          "execution_count": 78
        }
      ]
    },
    {
      "cell_type": "markdown",
      "metadata": {
        "id": "a_y-JjXxpRBD"
      },
      "source": [
        "Дата фрейм с черной пятницы чтобы сделать предикт именно для нее"
      ]
    },
    {
      "cell_type": "code",
      "metadata": {
        "id": "ZBp5Y6x0S5OX"
      },
      "source": [
        "black = train[train.black_friday == 1].drop(columns=['black_friday', 'location_group', 'product_group'])"
      ],
      "execution_count": null,
      "outputs": []
    },
    {
      "cell_type": "code",
      "metadata": {
        "id": "MdvbM_qTV1HA"
      },
      "source": [
        "black_X = black.drop(columns=['demand'])\n",
        "black_y = black.demand"
      ],
      "execution_count": null,
      "outputs": []
    },
    {
      "cell_type": "code",
      "metadata": {
        "id": "ZI32QViPV1Ed"
      },
      "source": [
        "model_black = CatBoostRegressor(iterations=200)"
      ],
      "execution_count": null,
      "outputs": []
    },
    {
      "cell_type": "code",
      "metadata": {
        "id": "KlqQxZidV1B5"
      },
      "source": [
        "model_black.fit(black_X, black_y)"
      ],
      "execution_count": null,
      "outputs": []
    },
    {
      "cell_type": "markdown",
      "metadata": {
        "id": "9Cv2kbFVpuV2"
      },
      "source": [
        "Делаем также для теста"
      ]
    },
    {
      "cell_type": "markdown",
      "metadata": {
        "id": "OSBlCSbSp5Jv"
      },
      "source": [
        "Черная пятница для теста"
      ]
    },
    {
      "cell_type": "code",
      "metadata": {
        "id": "-DcjFkU-nXsZ"
      },
      "source": [
        "test['black_friday'] = test['date'].map(lambda x: black_friday(x))"
      ],
      "execution_count": null,
      "outputs": []
    },
    {
      "cell_type": "code",
      "metadata": {
        "id": "2ONPnww5qQAV"
      },
      "source": [
        "test = transform_date(test)\n",
        "test = price(test)"
      ],
      "execution_count": null,
      "outputs": []
    },
    {
      "cell_type": "code",
      "metadata": {
        "id": "anhp2rH3nntv"
      },
      "source": [
        "test_black = test[test.black_friday == 1].drop(columns=['black_friday'])"
      ],
      "execution_count": null,
      "outputs": []
    },
    {
      "cell_type": "code",
      "metadata": {
        "id": "L_rW7ZbEnXj8"
      },
      "source": [
        "indexes = test_black['index']"
      ],
      "execution_count": null,
      "outputs": []
    },
    {
      "cell_type": "code",
      "metadata": {
        "id": "WqutlEsSsVvp"
      },
      "source": [
        "test_black = drop_useless_cols(test_black)"
      ],
      "execution_count": null,
      "outputs": []
    },
    {
      "cell_type": "code",
      "metadata": {
        "id": "Y3jlyTQaWkUF"
      },
      "source": [
        "test_black_X = test_black.drop(columns=['demand'])\n",
        "test_black_y = test_black.demand\n",
        "\n",
        "preds = model_black.predict(test_black_X)"
      ],
      "execution_count": null,
      "outputs": []
    },
    {
      "cell_type": "code",
      "metadata": {
        "id": "RzP0KkC9W-aN"
      },
      "source": [
        "black_predictions = pd.DataFrame({'index': indexes, 'black_pred': preds})"
      ],
      "execution_count": null,
      "outputs": []
    },
    {
      "cell_type": "markdown",
      "metadata": {
        "id": "lK5SM454p75S"
      },
      "source": [
        "Локация для теста"
      ]
    },
    {
      "cell_type": "code",
      "metadata": {
        "id": "h1aaWuz_o7zY"
      },
      "source": [
        "test['location_group'] = test['store_location_rk'].map(lambda x: figure_location_group(x))"
      ],
      "execution_count": null,
      "outputs": []
    },
    {
      "cell_type": "code",
      "metadata": {
        "id": "36ILhJhfE1iN"
      },
      "source": [
        "test['product_group'] = test['product_rk'].map(lambda x: figure_product_group(x))"
      ],
      "execution_count": null,
      "outputs": []
    },
    {
      "cell_type": "code",
      "metadata": {
        "id": "zizS20FHspOD"
      },
      "source": [
        "predicted_data = dict()\n",
        "\n",
        "for i in [0, 1, 2, 3, 4, 5]:\n",
        "    model = CatBoostRegressor(iterations=200)\n",
        "    X = test[(test.location_group == i) & (test.black_friday == 0)].drop(columns=['black_friday', 'location_group', 'product_group'])\n",
        "    indexes = X['index']\n",
        "    X = drop_useless_cols(X)\n",
        "    X = X.drop(columns=['demand'])\n",
        "    preds = location_models[i].predict(X)\n",
        "    \n",
        "    predicted_data[i] = pd.DataFrame({'index': indexes, 'location %d'%i:preds})"
      ],
      "execution_count": null,
      "outputs": []
    },
    {
      "cell_type": "code",
      "metadata": {
        "id": "CzfIyOhLFlkW"
      },
      "source": [
        "predicted_product = dict()\n",
        "\n",
        "for i in [0, 1, 2, 3, 4]:\n",
        "    model = CatBoostRegressor(iterations=200)\n",
        "    X = test[(test.product_group == i) & (test.black_friday == 0)].drop(columns=['black_friday', 'location_group', 'product_group'])\n",
        "    indexes = X['index']\n",
        "    X = drop_useless_cols(X)\n",
        "    X = X.drop(columns=['demand'])\n",
        "    preds = product_models[i].predict(X)\n",
        "    \n",
        "    predicted_product[i] = pd.DataFrame({'index': indexes, 'product %d'%i:preds})"
      ],
      "execution_count": null,
      "outputs": []
    },
    {
      "cell_type": "markdown",
      "metadata": {
        "id": "Ng_v7EqLwBOe"
      },
      "source": [
        "Делаю мердж ответов с sample"
      ]
    },
    {
      "cell_type": "code",
      "metadata": {
        "id": "sBIaM3X6txZY"
      },
      "source": [
        "sample = sample.merge(predicted_data[0], how='left', on='index')\n",
        "sample = sample.merge(predicted_data[1], how='left', on='index')\n",
        "sample = sample.merge(predicted_data[2], how='left', on='index')\n",
        "sample = sample.merge(predicted_data[3], how='left', on='index')\n",
        "sample = sample.merge(predicted_data[4], how='left', on='index')\n",
        "sample = sample.merge(predicted_data[5], how='left', on='index')\n",
        "\n",
        "sample = sample.merge(predicted_product[0], how='left', on='index')\n",
        "sample = sample.merge(predicted_product[1], how='left', on='index')\n",
        "sample = sample.merge(predicted_product[2], how='left', on='index')\n",
        "sample = sample.merge(predicted_product[3], how='left', on='index')\n",
        "sample = sample.merge(predicted_product[4], how='left', on='index')"
      ],
      "execution_count": null,
      "outputs": []
    },
    {
      "cell_type": "markdown",
      "metadata": {
        "id": "cauK2vIbwFP0"
      },
      "source": [
        "Удаляю нули чтобы красиво сложить"
      ]
    },
    {
      "cell_type": "markdown",
      "metadata": {
        "id": "65J7v_wdwIkO"
      },
      "source": [
        "P.S. в строке будет ток 1 ненулевое число"
      ]
    },
    {
      "cell_type": "code",
      "metadata": {
        "id": "oztHX1mXo7wA"
      },
      "source": [
        "sample = sample.fillna(0)"
      ],
      "execution_count": null,
      "outputs": []
    },
    {
      "cell_type": "code",
      "metadata": {
        "colab": {
          "base_uri": "https://localhost:8080/",
          "height": 419
        },
        "id": "dMWkvzXPKQcd",
        "outputId": "607a3831-67c6-40f4-c6cb-d62db8b8b79c"
      },
      "source": [
        "sample"
      ],
      "execution_count": null,
      "outputs": [
        {
          "output_type": "execute_result",
          "data": {
            "text/html": [
              "<div>\n",
              "<style scoped>\n",
              "    .dataframe tbody tr th:only-of-type {\n",
              "        vertical-align: middle;\n",
              "    }\n",
              "\n",
              "    .dataframe tbody tr th {\n",
              "        vertical-align: top;\n",
              "    }\n",
              "\n",
              "    .dataframe thead th {\n",
              "        text-align: right;\n",
              "    }\n",
              "</style>\n",
              "<table border=\"1\" class=\"dataframe\">\n",
              "  <thead>\n",
              "    <tr style=\"text-align: right;\">\n",
              "      <th></th>\n",
              "      <th>index</th>\n",
              "      <th>demand</th>\n",
              "      <th>location 0</th>\n",
              "      <th>location 1</th>\n",
              "      <th>location 2</th>\n",
              "      <th>location 3</th>\n",
              "      <th>location 4</th>\n",
              "      <th>location 5</th>\n",
              "      <th>product 0</th>\n",
              "      <th>product 1</th>\n",
              "      <th>product 2</th>\n",
              "      <th>product 3</th>\n",
              "      <th>product 4</th>\n",
              "    </tr>\n",
              "  </thead>\n",
              "  <tbody>\n",
              "    <tr>\n",
              "      <th>0</th>\n",
              "      <td>902</td>\n",
              "      <td>0.0</td>\n",
              "      <td>0.000000</td>\n",
              "      <td>0.0</td>\n",
              "      <td>1.663742</td>\n",
              "      <td>0.0</td>\n",
              "      <td>0.0</td>\n",
              "      <td>0.000000</td>\n",
              "      <td>0.0</td>\n",
              "      <td>0.0</td>\n",
              "      <td>0.0</td>\n",
              "      <td>0.000000</td>\n",
              "      <td>1.932516</td>\n",
              "    </tr>\n",
              "    <tr>\n",
              "      <th>1</th>\n",
              "      <td>1163</td>\n",
              "      <td>0.0</td>\n",
              "      <td>0.000000</td>\n",
              "      <td>0.0</td>\n",
              "      <td>0.000000</td>\n",
              "      <td>0.0</td>\n",
              "      <td>0.0</td>\n",
              "      <td>1.330226</td>\n",
              "      <td>0.0</td>\n",
              "      <td>0.0</td>\n",
              "      <td>0.0</td>\n",
              "      <td>1.547588</td>\n",
              "      <td>0.000000</td>\n",
              "    </tr>\n",
              "    <tr>\n",
              "      <th>2</th>\n",
              "      <td>1167</td>\n",
              "      <td>0.0</td>\n",
              "      <td>0.000000</td>\n",
              "      <td>0.0</td>\n",
              "      <td>0.000000</td>\n",
              "      <td>0.0</td>\n",
              "      <td>0.0</td>\n",
              "      <td>1.104621</td>\n",
              "      <td>0.0</td>\n",
              "      <td>0.0</td>\n",
              "      <td>0.0</td>\n",
              "      <td>1.003743</td>\n",
              "      <td>0.000000</td>\n",
              "    </tr>\n",
              "    <tr>\n",
              "      <th>3</th>\n",
              "      <td>1172</td>\n",
              "      <td>0.0</td>\n",
              "      <td>0.000000</td>\n",
              "      <td>0.0</td>\n",
              "      <td>0.000000</td>\n",
              "      <td>0.0</td>\n",
              "      <td>0.0</td>\n",
              "      <td>0.000000</td>\n",
              "      <td>0.0</td>\n",
              "      <td>0.0</td>\n",
              "      <td>0.0</td>\n",
              "      <td>0.000000</td>\n",
              "      <td>0.000000</td>\n",
              "    </tr>\n",
              "    <tr>\n",
              "      <th>4</th>\n",
              "      <td>1202</td>\n",
              "      <td>0.0</td>\n",
              "      <td>1.738397</td>\n",
              "      <td>0.0</td>\n",
              "      <td>0.000000</td>\n",
              "      <td>0.0</td>\n",
              "      <td>0.0</td>\n",
              "      <td>0.000000</td>\n",
              "      <td>0.0</td>\n",
              "      <td>0.0</td>\n",
              "      <td>0.0</td>\n",
              "      <td>0.000000</td>\n",
              "      <td>1.218632</td>\n",
              "    </tr>\n",
              "    <tr>\n",
              "      <th>...</th>\n",
              "      <td>...</td>\n",
              "      <td>...</td>\n",
              "      <td>...</td>\n",
              "      <td>...</td>\n",
              "      <td>...</td>\n",
              "      <td>...</td>\n",
              "      <td>...</td>\n",
              "      <td>...</td>\n",
              "      <td>...</td>\n",
              "      <td>...</td>\n",
              "      <td>...</td>\n",
              "      <td>...</td>\n",
              "      <td>...</td>\n",
              "    </tr>\n",
              "    <tr>\n",
              "      <th>523</th>\n",
              "      <td>209593</td>\n",
              "      <td>0.0</td>\n",
              "      <td>0.000000</td>\n",
              "      <td>0.0</td>\n",
              "      <td>0.000000</td>\n",
              "      <td>0.0</td>\n",
              "      <td>0.0</td>\n",
              "      <td>0.000000</td>\n",
              "      <td>0.0</td>\n",
              "      <td>0.0</td>\n",
              "      <td>0.0</td>\n",
              "      <td>0.000000</td>\n",
              "      <td>0.000000</td>\n",
              "    </tr>\n",
              "    <tr>\n",
              "      <th>524</th>\n",
              "      <td>209594</td>\n",
              "      <td>0.0</td>\n",
              "      <td>0.000000</td>\n",
              "      <td>0.0</td>\n",
              "      <td>0.000000</td>\n",
              "      <td>0.0</td>\n",
              "      <td>0.0</td>\n",
              "      <td>0.000000</td>\n",
              "      <td>0.0</td>\n",
              "      <td>0.0</td>\n",
              "      <td>0.0</td>\n",
              "      <td>0.000000</td>\n",
              "      <td>0.000000</td>\n",
              "    </tr>\n",
              "    <tr>\n",
              "      <th>525</th>\n",
              "      <td>209595</td>\n",
              "      <td>0.0</td>\n",
              "      <td>0.000000</td>\n",
              "      <td>0.0</td>\n",
              "      <td>0.000000</td>\n",
              "      <td>0.0</td>\n",
              "      <td>0.0</td>\n",
              "      <td>0.000000</td>\n",
              "      <td>0.0</td>\n",
              "      <td>0.0</td>\n",
              "      <td>0.0</td>\n",
              "      <td>0.000000</td>\n",
              "      <td>0.000000</td>\n",
              "    </tr>\n",
              "    <tr>\n",
              "      <th>526</th>\n",
              "      <td>209596</td>\n",
              "      <td>0.0</td>\n",
              "      <td>0.000000</td>\n",
              "      <td>0.0</td>\n",
              "      <td>0.000000</td>\n",
              "      <td>0.0</td>\n",
              "      <td>0.0</td>\n",
              "      <td>0.000000</td>\n",
              "      <td>0.0</td>\n",
              "      <td>0.0</td>\n",
              "      <td>0.0</td>\n",
              "      <td>0.000000</td>\n",
              "      <td>0.000000</td>\n",
              "    </tr>\n",
              "    <tr>\n",
              "      <th>527</th>\n",
              "      <td>209597</td>\n",
              "      <td>0.0</td>\n",
              "      <td>0.000000</td>\n",
              "      <td>0.0</td>\n",
              "      <td>0.000000</td>\n",
              "      <td>0.0</td>\n",
              "      <td>0.0</td>\n",
              "      <td>0.000000</td>\n",
              "      <td>0.0</td>\n",
              "      <td>0.0</td>\n",
              "      <td>0.0</td>\n",
              "      <td>0.000000</td>\n",
              "      <td>0.000000</td>\n",
              "    </tr>\n",
              "  </tbody>\n",
              "</table>\n",
              "<p>528 rows × 13 columns</p>\n",
              "</div>"
            ],
            "text/plain": [
              "      index  demand  location 0  ...  product 2  product 3  product 4\n",
              "0       902     0.0    0.000000  ...        0.0   0.000000   1.932516\n",
              "1      1163     0.0    0.000000  ...        0.0   1.547588   0.000000\n",
              "2      1167     0.0    0.000000  ...        0.0   1.003743   0.000000\n",
              "3      1172     0.0    0.000000  ...        0.0   0.000000   0.000000\n",
              "4      1202     0.0    1.738397  ...        0.0   0.000000   1.218632\n",
              "..      ...     ...         ...  ...        ...        ...        ...\n",
              "523  209593     0.0    0.000000  ...        0.0   0.000000   0.000000\n",
              "524  209594     0.0    0.000000  ...        0.0   0.000000   0.000000\n",
              "525  209595     0.0    0.000000  ...        0.0   0.000000   0.000000\n",
              "526  209596     0.0    0.000000  ...        0.0   0.000000   0.000000\n",
              "527  209597     0.0    0.000000  ...        0.0   0.000000   0.000000\n",
              "\n",
              "[528 rows x 13 columns]"
            ]
          },
          "metadata": {
            "tags": []
          },
          "execution_count": 126
        }
      ]
    },
    {
      "cell_type": "code",
      "metadata": {
        "id": "bzYmlMRjGdDx"
      },
      "source": [
        "sample = sample.merge(black_predictions, how='left', on='index')\n",
        "sample = sample.fillna(0)"
      ],
      "execution_count": null,
      "outputs": []
    },
    {
      "cell_type": "code",
      "metadata": {
        "id": "9nw3iCx4Jl3R"
      },
      "source": [
        "sample['demand'] = sample[sample.columns[2:]].max(axis=1)"
      ],
      "execution_count": null,
      "outputs": []
    },
    {
      "cell_type": "code",
      "metadata": {
        "id": "ILoNXon6o7pa"
      },
      "source": [
        "sample = sample[['index', 'demand']].set_index('index')"
      ],
      "execution_count": null,
      "outputs": []
    },
    {
      "cell_type": "code",
      "metadata": {
        "id": "1_yhzh2Go7mP"
      },
      "source": [
        "sample.to_csv('black_&_location_&_product_&_max.csv')"
      ],
      "execution_count": null,
      "outputs": []
    },
    {
      "cell_type": "code",
      "metadata": {
        "id": "LvhTrgTCbAIm"
      },
      "source": [
        ""
      ],
      "execution_count": null,
      "outputs": []
    }
  ]
}